{
  "nbformat": 4,
  "nbformat_minor": 0,
  "metadata": {
    "colab": {
      "name": "Python_2.ipynb",
      "provenance": [],
      "collapsed_sections": [],
      "authorship_tag": "ABX9TyNvZpBsKSMZ8rJaFomzFK8V",
      "include_colab_link": true
    },
    "kernelspec": {
      "name": "python3",
      "display_name": "Python 3"
    }
  },
  "cells": [
    {
      "cell_type": "markdown",
      "metadata": {
        "id": "view-in-github",
        "colab_type": "text"
      },
      "source": [
        "<a href=\"https://colab.research.google.com/github/evandernaufal/kecerdasanbuatan/blob/main/Python_2.ipynb\" target=\"_parent\"><img src=\"https://colab.research.google.com/assets/colab-badge.svg\" alt=\"Open In Colab\"/></a>"
      ]
    },
    {
      "cell_type": "code",
      "metadata": {
        "id": "zobFRhfWVA1F"
      },
      "source": [
        "#membuat fungsi untuk menghitung sisi miring segitiga siku-siku\n",
        "#c = (a^2+b^2)^0.5\n",
        "\n",
        "def rumus_pythagoras(a,b):\n",
        "  \"\"\" Rumus untuk menghitung sisi miring segitiga siku-siku \"\"\"\n",
        "  c = (a**2 + b**2)**0.5\n",
        "  return c"
      ],
      "execution_count": null,
      "outputs": []
    },
    {
      "cell_type": "code",
      "metadata": {
        "id": "IcM_1OCBVkMw",
        "outputId": "21e76c77-db2a-498a-bd58-f944bf89aace",
        "colab": {
          "base_uri": "https://localhost:8080/",
          "height": 34
        }
      },
      "source": [
        "rumus_pythagoras(3,4)"
      ],
      "execution_count": null,
      "outputs": [
        {
          "output_type": "execute_result",
          "data": {
            "text/plain": [
              "5.0"
            ]
          },
          "metadata": {
            "tags": []
          },
          "execution_count": 2
        }
      ]
    },
    {
      "cell_type": "code",
      "metadata": {
        "id": "Zcgfq6SZV6tI",
        "outputId": "f190c96b-9961-492f-f889-545a0238b221",
        "colab": {
          "base_uri": "https://localhost:8080/",
          "height": 87
        }
      },
      "source": [
        "help(rumus_pythagoras)"
      ],
      "execution_count": null,
      "outputs": [
        {
          "output_type": "stream",
          "text": [
            "Help on function rumus_pythagoras in module __main__:\n",
            "\n",
            "rumus_pythagoras(a, b)\n",
            "\n"
          ],
          "name": "stdout"
        }
      ]
    },
    {
      "cell_type": "code",
      "metadata": {
        "id": "UKVufdXAWH-E",
        "outputId": "c2542bbe-7b97-4e38-fce8-d3ad7b3be7a3",
        "colab": {
          "base_uri": "https://localhost:8080/",
          "height": 34
        }
      },
      "source": [
        "rumus_pythagoras(3,4)"
      ],
      "execution_count": null,
      "outputs": [
        {
          "output_type": "execute_result",
          "data": {
            "text/plain": [
              "5.0"
            ]
          },
          "metadata": {
            "tags": []
          },
          "execution_count": 3
        }
      ]
    }
  ]
}